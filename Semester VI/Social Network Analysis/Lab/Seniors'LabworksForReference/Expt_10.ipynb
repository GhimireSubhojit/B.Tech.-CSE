{
  "nbformat": 4,
  "nbformat_minor": 0,
  "metadata": {
    "colab": {
      "name": "Expt_10.ipynb",
      "provenance": []
    },
    "kernelspec": {
      "name": "python3",
      "display_name": "Python 3"
    },
    "language_info": {
      "name": "python"
    }
  },
  "cells": [
    {
      "cell_type": "code",
      "metadata": {
        "id": "QjqX1FlLYSKT"
      },
      "source": [
        "pip install ndlib"
      ],
      "execution_count": null,
      "outputs": []
    },
    {
      "cell_type": "code",
      "metadata": {
        "id": "qZP0YiZzYwTm"
      },
      "source": [
        "import networkx as nx\n",
        "import pandas as pd\n",
        "import numpy as np\n",
        "import matplotlib.pyplot as plt\n",
        "import ndlib.models.epidemics as ep\n",
        "import json\n",
        "import ndlib.models.ModelConfig as mc\n",
        "from ndlib.viz.mpl.DiffusionTrend import DiffusionTrend\n",
        "from ndlib.viz.mpl.DiffusionPrevalence import DiffusionPrevalence"
      ],
      "execution_count": null,
      "outputs": []
    },
    {
      "cell_type": "code",
      "metadata": {
        "id": "u5af0AASZLW6"
      },
      "source": [
        "g = nx.read_gml(\"football.gml\")\n",
        "#g = nx.karate_club_graph()\n",
        "#g = nx.read_gml(\"dolphins.gml\")\n",
        "nodes = len(g.nodes)"
      ],
      "execution_count": null,
      "outputs": []
    },
    {
      "cell_type": "code",
      "metadata": {
        "colab": {
          "base_uri": "https://localhost:8080/"
        },
        "id": "kOIZnf_7wPxL",
        "outputId": "78da5f5d-6083-4549-b3dd-e09478ef9f53"
      },
      "source": [
        "nodes"
      ],
      "execution_count": null,
      "outputs": [
        {
          "output_type": "execute_result",
          "data": {
            "text/plain": [
              "115"
            ]
          },
          "metadata": {
            "tags": []
          },
          "execution_count": 39
        }
      ]
    },
    {
      "cell_type": "markdown",
      "metadata": {
        "id": "wxCSJFs45saG"
      },
      "source": [
        " CENTRALITY"
      ]
    },
    {
      "cell_type": "code",
      "metadata": {
        "id": "0C9tUQDSZPSu"
      },
      "source": [
        "centrality = nx.degree_centrality(g)\n",
        "#centrality = nx.betweenness_centrality(g)\n",
        "#centrality = nx.closeness_centrality(g)"
      ],
      "execution_count": null,
      "outputs": []
    },
    {
      "cell_type": "code",
      "metadata": {
        "colab": {
          "base_uri": "https://localhost:8080/"
        },
        "id": "PCBiUvx5lqCu",
        "outputId": "4660746e-0960-47ee-9a4c-5a8069af396d"
      },
      "source": [
        "centrality"
      ],
      "execution_count": null,
      "outputs": [
        {
          "output_type": "execute_result",
          "data": {
            "text/plain": [
              "{'AirForce': 0.08771929824561403,\n",
              " 'Akron': 0.09649122807017543,\n",
              " 'Alabama': 0.09649122807017543,\n",
              " 'AlabamaBirmingham': 0.08771929824561403,\n",
              " 'Arizona': 0.09649122807017543,\n",
              " 'ArizonaState': 0.09649122807017543,\n",
              " 'Arkansas': 0.08771929824561403,\n",
              " 'ArkansasState': 0.08771929824561403,\n",
              " 'Army': 0.09649122807017543,\n",
              " 'Auburn': 0.09649122807017543,\n",
              " 'BallState': 0.08771929824561403,\n",
              " 'Baylor': 0.08771929824561403,\n",
              " 'BoiseState': 0.07894736842105263,\n",
              " 'BostonCollege': 0.09649122807017543,\n",
              " 'BowlingGreenState': 0.09649122807017543,\n",
              " 'BrighamYoung': 0.10526315789473684,\n",
              " 'Buffalo': 0.09649122807017543,\n",
              " 'California': 0.09649122807017543,\n",
              " 'CentralFlorida': 0.07017543859649122,\n",
              " 'CentralMichigan': 0.09649122807017543,\n",
              " 'Cincinnati': 0.09649122807017543,\n",
              " 'Clemson': 0.08771929824561403,\n",
              " 'Colorado': 0.09649122807017543,\n",
              " 'ColoradoState': 0.08771929824561403,\n",
              " 'Connecticut': 0.06140350877192982,\n",
              " 'Duke': 0.09649122807017543,\n",
              " 'EastCarolina': 0.09649122807017543,\n",
              " 'EasternMichigan': 0.09649122807017543,\n",
              " 'Florida': 0.09649122807017543,\n",
              " 'FloridaState': 0.10526315789473684,\n",
              " 'FresnoState': 0.09649122807017543,\n",
              " 'Georgia': 0.08771929824561403,\n",
              " 'GeorgiaTech': 0.09649122807017543,\n",
              " 'Hawaii': 0.09649122807017543,\n",
              " 'Houston': 0.09649122807017543,\n",
              " 'Idaho': 0.07894736842105263,\n",
              " 'Illinois': 0.09649122807017543,\n",
              " 'Indiana': 0.09649122807017543,\n",
              " 'Iowa': 0.10526315789473684,\n",
              " 'IowaState': 0.09649122807017543,\n",
              " 'Kansas': 0.08771929824561403,\n",
              " 'KansasState': 0.10526315789473684,\n",
              " 'Kent': 0.08771929824561403,\n",
              " 'Kentucky': 0.08771929824561403,\n",
              " 'LouisianaLafayette': 0.07017543859649122,\n",
              " 'LouisianaMonroe': 0.07017543859649122,\n",
              " 'LouisianaState': 0.08771929824561403,\n",
              " 'LouisianaTech': 0.08771929824561403,\n",
              " 'Louisville': 0.08771929824561403,\n",
              " 'Marshall': 0.08771929824561403,\n",
              " 'Maryland': 0.09649122807017543,\n",
              " 'Memphis': 0.09649122807017543,\n",
              " 'MiamiFlorida': 0.08771929824561403,\n",
              " 'MiamiOhio': 0.09649122807017543,\n",
              " 'Michigan': 0.09649122807017543,\n",
              " 'MichiganState': 0.09649122807017543,\n",
              " 'MiddleTennesseeState': 0.07894736842105263,\n",
              " 'Minnesota': 0.09649122807017543,\n",
              " 'Mississippi': 0.09649122807017543,\n",
              " 'MississippiState': 0.09649122807017543,\n",
              " 'Missouri': 0.08771929824561403,\n",
              " 'Navy': 0.09649122807017543,\n",
              " 'Nebraska': 0.09649122807017543,\n",
              " 'Nevada': 0.10526315789473684,\n",
              " 'NevadaLasVegas': 0.10526315789473684,\n",
              " 'NewMexico': 0.09649122807017543,\n",
              " 'NewMexicoState': 0.09649122807017543,\n",
              " 'NorthCarolina': 0.09649122807017543,\n",
              " 'NorthCarolinaState': 0.09649122807017543,\n",
              " 'NorthTexas': 0.08771929824561403,\n",
              " 'NorthernIllinois': 0.08771929824561403,\n",
              " 'Northwestern': 0.09649122807017543,\n",
              " 'NotreDame': 0.09649122807017543,\n",
              " 'Ohio': 0.08771929824561403,\n",
              " 'OhioState': 0.09649122807017543,\n",
              " 'Oklahoma': 0.09649122807017543,\n",
              " 'OklahomaState': 0.08771929824561403,\n",
              " 'Oregon': 0.09649122807017543,\n",
              " 'OregonState': 0.08771929824561403,\n",
              " 'PennState': 0.10526315789473684,\n",
              " 'Pittsburgh': 0.09649122807017543,\n",
              " 'Purdue': 0.09649122807017543,\n",
              " 'Rice': 0.09649122807017543,\n",
              " 'Rutgers': 0.08771929824561403,\n",
              " 'SanDiegoState': 0.09649122807017543,\n",
              " 'SanJoseState': 0.09649122807017543,\n",
              " 'SouthCarolina': 0.09649122807017543,\n",
              " 'SouthernCalifornia': 0.10526315789473684,\n",
              " 'SouthernMethodist': 0.10526315789473684,\n",
              " 'SouthernMississippi': 0.08771929824561403,\n",
              " 'Stanford': 0.09649122807017543,\n",
              " 'Syracuse': 0.09649122807017543,\n",
              " 'Temple': 0.09649122807017543,\n",
              " 'Tennessee': 0.09649122807017543,\n",
              " 'Texas': 0.09649122807017543,\n",
              " 'TexasA&M': 0.09649122807017543,\n",
              " 'TexasChristian': 0.09649122807017543,\n",
              " 'TexasElPaso': 0.09649122807017543,\n",
              " 'TexasTech': 0.10526315789473684,\n",
              " 'Toledo': 0.07894736842105263,\n",
              " 'Tulane': 0.09649122807017543,\n",
              " 'Tulsa': 0.10526315789473684,\n",
              " 'UCLA': 0.09649122807017543,\n",
              " 'Utah': 0.09649122807017543,\n",
              " 'UtahState': 0.07894736842105263,\n",
              " 'Vanderbilt': 0.09649122807017543,\n",
              " 'Virginia': 0.08771929824561403,\n",
              " 'VirginiaTech': 0.09649122807017543,\n",
              " 'WakeForest': 0.08771929824561403,\n",
              " 'Washington': 0.09649122807017543,\n",
              " 'WashingtonState': 0.09649122807017543,\n",
              " 'WestVirginia': 0.09649122807017543,\n",
              " 'WesternMichigan': 0.08771929824561403,\n",
              " 'Wisconsin': 0.10526315789473684,\n",
              " 'Wyoming': 0.09649122807017543}"
            ]
          },
          "metadata": {
            "tags": []
          },
          "execution_count": 6
        }
      ]
    },
    {
      "cell_type": "markdown",
      "metadata": {
        "id": "5NpP6lyt56c4"
      },
      "source": [
        "MAKING A DATAFRAME"
      ]
    },
    {
      "cell_type": "code",
      "metadata": {
        "id": "-m9WjF3H8V9w"
      },
      "source": [
        "df=pd.DataFrame(centrality.values()).describe()"
      ],
      "execution_count": null,
      "outputs": []
    },
    {
      "cell_type": "code",
      "metadata": {
        "colab": {
          "base_uri": "https://localhost:8080/",
          "height": 294
        },
        "id": "oygUMPv_ZWQZ",
        "outputId": "82d7eacc-aaa4-4352-852b-e1e8bd13b073"
      },
      "source": [
        "df"
      ],
      "execution_count": null,
      "outputs": [
        {
          "output_type": "execute_result",
          "data": {
            "text/html": [
              "<div>\n",
              "<style scoped>\n",
              "    .dataframe tbody tr th:only-of-type {\n",
              "        vertical-align: middle;\n",
              "    }\n",
              "\n",
              "    .dataframe tbody tr th {\n",
              "        vertical-align: top;\n",
              "    }\n",
              "\n",
              "    .dataframe thead th {\n",
              "        text-align: right;\n",
              "    }\n",
              "</style>\n",
              "<table border=\"1\" class=\"dataframe\">\n",
              "  <thead>\n",
              "    <tr style=\"text-align: right;\">\n",
              "      <th></th>\n",
              "      <th>0</th>\n",
              "    </tr>\n",
              "  </thead>\n",
              "  <tbody>\n",
              "    <tr>\n",
              "      <th>count</th>\n",
              "      <td>115.000000</td>\n",
              "    </tr>\n",
              "    <tr>\n",
              "      <th>mean</th>\n",
              "      <td>0.093516</td>\n",
              "    </tr>\n",
              "    <tr>\n",
              "      <th>std</th>\n",
              "      <td>0.007784</td>\n",
              "    </tr>\n",
              "    <tr>\n",
              "      <th>min</th>\n",
              "      <td>0.061404</td>\n",
              "    </tr>\n",
              "    <tr>\n",
              "      <th>25%</th>\n",
              "      <td>0.087719</td>\n",
              "    </tr>\n",
              "    <tr>\n",
              "      <th>50%</th>\n",
              "      <td>0.096491</td>\n",
              "    </tr>\n",
              "    <tr>\n",
              "      <th>75%</th>\n",
              "      <td>0.096491</td>\n",
              "    </tr>\n",
              "    <tr>\n",
              "      <th>max</th>\n",
              "      <td>0.105263</td>\n",
              "    </tr>\n",
              "  </tbody>\n",
              "</table>\n",
              "</div>"
            ],
            "text/plain": [
              "                0\n",
              "count  115.000000\n",
              "mean     0.093516\n",
              "std      0.007784\n",
              "min      0.061404\n",
              "25%      0.087719\n",
              "50%      0.096491\n",
              "75%      0.096491\n",
              "max      0.105263"
            ]
          },
          "metadata": {
            "tags": []
          },
          "execution_count": 8
        }
      ]
    },
    {
      "cell_type": "markdown",
      "metadata": {
        "id": "2S3nh_U79sHd"
      },
      "source": [
        "**Whole graph coverage**"
      ]
    },
    {
      "cell_type": "code",
      "metadata": {
        "id": "wy59Y0vIaNeN"
      },
      "source": [
        "def whole_graph_coverage():\n",
        "\n",
        "  for j in range(3,8):\n",
        "    iterations=[]\n",
        "    for key,value in centrality.items():\n",
        "      if value == df[0][j]:\n",
        "        infected_node = [key]\n",
        "\n",
        "        model = ep.SIModel(g)\n",
        "        cfg = mc.Configuration()\n",
        "        cfg.add_model_parameter('beta', 0.1) # infection rate\n",
        "        cfg.add_model_initial_configuration(\"Infected\", infected_node)\n",
        "        model.set_initial_status(cfg)\n",
        "\n",
        "        infected = 0\n",
        "        i = 0\n",
        "        while(infected != nodes):\n",
        "          iteration = model.iteration()\n",
        "          infected = iteration['node_count'][1]\n",
        "          i+=1\n",
        "        \n",
        "        iterations.append(i)\n",
        "\n",
        "    required_iterations.append(iterations)\n",
        "        "
      ],
      "execution_count": null,
      "outputs": []
    },
    {
      "cell_type": "code",
      "metadata": {
        "id": "k7ukazO9Mtb8"
      },
      "source": [
        "required_iterations=[]\n",
        "whole_graph_coverage()"
      ],
      "execution_count": null,
      "outputs": []
    },
    {
      "cell_type": "code",
      "metadata": {
        "colab": {
          "base_uri": "https://localhost:8080/"
        },
        "id": "hkvB0LCYc58t",
        "outputId": "6b816699-1cd5-4d37-8cb3-cf0bf37fe889"
      },
      "source": [
        "print(required_iterations)"
      ],
      "execution_count": null,
      "outputs": [
        {
          "output_type": "stream",
          "text": [
            "[[20, 20.0, 20.0, 20.0, 20.0, 20.0, 20.0, 20.0, 20.0, 20.0], [17, 17, 20, 14, 20, 16, 14, 17, 15, 16], [14, 17, 15, 18, 14, 17, 17, 15, 14, 18], [18, 17, 18, 17, 15, 19, 14, 19, 19, 16], [18, 16, 17, 15, 15, 15, 16, 16, 15, 13]]\n"
          ],
          "name": "stdout"
        }
      ]
    },
    {
      "cell_type": "code",
      "metadata": {
        "id": "1lsvq4i3VOqh"
      },
      "source": [
        "pad=10\n",
        "for lst in required_iterations:\n",
        "  while(len(lst)!=pad):\n",
        "    if(len(lst)>pad): lst.pop()\n",
        "    else: lst.append(np.mean(lst))"
      ],
      "execution_count": null,
      "outputs": []
    },
    {
      "cell_type": "code",
      "metadata": {
        "id": "L3itxcttVhY6"
      },
      "source": [
        "data=pd.DataFrame({'min' : required_iterations[0], \n",
        "                   'min_med' : required_iterations[1],\n",
        "                   'median' : required_iterations[2],\n",
        "                   'max_med' : required_iterations[3],\n",
        "                   'max' : required_iterations[4]})\n"
      ],
      "execution_count": null,
      "outputs": []
    },
    {
      "cell_type": "code",
      "metadata": {
        "colab": {
          "base_uri": "https://localhost:8080/",
          "height": 355
        },
        "id": "bFig-tSOXgXc",
        "outputId": "0c1736a9-1239-495f-f472-deb8254ec560"
      },
      "source": [
        "data"
      ],
      "execution_count": null,
      "outputs": [
        {
          "output_type": "execute_result",
          "data": {
            "text/html": [
              "<div>\n",
              "<style scoped>\n",
              "    .dataframe tbody tr th:only-of-type {\n",
              "        vertical-align: middle;\n",
              "    }\n",
              "\n",
              "    .dataframe tbody tr th {\n",
              "        vertical-align: top;\n",
              "    }\n",
              "\n",
              "    .dataframe thead th {\n",
              "        text-align: right;\n",
              "    }\n",
              "</style>\n",
              "<table border=\"1\" class=\"dataframe\">\n",
              "  <thead>\n",
              "    <tr style=\"text-align: right;\">\n",
              "      <th></th>\n",
              "      <th>min</th>\n",
              "      <th>min_med</th>\n",
              "      <th>median</th>\n",
              "      <th>max_med</th>\n",
              "      <th>max</th>\n",
              "    </tr>\n",
              "  </thead>\n",
              "  <tbody>\n",
              "    <tr>\n",
              "      <th>0</th>\n",
              "      <td>20.0</td>\n",
              "      <td>17</td>\n",
              "      <td>14</td>\n",
              "      <td>18</td>\n",
              "      <td>18</td>\n",
              "    </tr>\n",
              "    <tr>\n",
              "      <th>1</th>\n",
              "      <td>20.0</td>\n",
              "      <td>17</td>\n",
              "      <td>17</td>\n",
              "      <td>17</td>\n",
              "      <td>16</td>\n",
              "    </tr>\n",
              "    <tr>\n",
              "      <th>2</th>\n",
              "      <td>20.0</td>\n",
              "      <td>20</td>\n",
              "      <td>15</td>\n",
              "      <td>18</td>\n",
              "      <td>17</td>\n",
              "    </tr>\n",
              "    <tr>\n",
              "      <th>3</th>\n",
              "      <td>20.0</td>\n",
              "      <td>14</td>\n",
              "      <td>18</td>\n",
              "      <td>17</td>\n",
              "      <td>15</td>\n",
              "    </tr>\n",
              "    <tr>\n",
              "      <th>4</th>\n",
              "      <td>20.0</td>\n",
              "      <td>20</td>\n",
              "      <td>14</td>\n",
              "      <td>15</td>\n",
              "      <td>15</td>\n",
              "    </tr>\n",
              "    <tr>\n",
              "      <th>5</th>\n",
              "      <td>20.0</td>\n",
              "      <td>16</td>\n",
              "      <td>17</td>\n",
              "      <td>19</td>\n",
              "      <td>15</td>\n",
              "    </tr>\n",
              "    <tr>\n",
              "      <th>6</th>\n",
              "      <td>20.0</td>\n",
              "      <td>14</td>\n",
              "      <td>17</td>\n",
              "      <td>14</td>\n",
              "      <td>16</td>\n",
              "    </tr>\n",
              "    <tr>\n",
              "      <th>7</th>\n",
              "      <td>20.0</td>\n",
              "      <td>17</td>\n",
              "      <td>15</td>\n",
              "      <td>19</td>\n",
              "      <td>16</td>\n",
              "    </tr>\n",
              "    <tr>\n",
              "      <th>8</th>\n",
              "      <td>20.0</td>\n",
              "      <td>15</td>\n",
              "      <td>14</td>\n",
              "      <td>19</td>\n",
              "      <td>15</td>\n",
              "    </tr>\n",
              "    <tr>\n",
              "      <th>9</th>\n",
              "      <td>20.0</td>\n",
              "      <td>16</td>\n",
              "      <td>18</td>\n",
              "      <td>16</td>\n",
              "      <td>13</td>\n",
              "    </tr>\n",
              "  </tbody>\n",
              "</table>\n",
              "</div>"
            ],
            "text/plain": [
              "    min  min_med  median  max_med  max\n",
              "0  20.0       17      14       18   18\n",
              "1  20.0       17      17       17   16\n",
              "2  20.0       20      15       18   17\n",
              "3  20.0       14      18       17   15\n",
              "4  20.0       20      14       15   15\n",
              "5  20.0       16      17       19   15\n",
              "6  20.0       14      17       14   16\n",
              "7  20.0       17      15       19   16\n",
              "8  20.0       15      14       19   15\n",
              "9  20.0       16      18       16   13"
            ]
          },
          "metadata": {
            "tags": []
          },
          "execution_count": 14
        }
      ]
    },
    {
      "cell_type": "markdown",
      "metadata": {
        "id": "k4WEnFv56Ev4"
      },
      "source": [
        "BOXPLOT OF WHOLE GRAPH COVERAGE"
      ]
    },
    {
      "cell_type": "code",
      "metadata": {
        "colab": {
          "base_uri": "https://localhost:8080/",
          "height": 299
        },
        "id": "FxipmT_-aS8P",
        "outputId": "f46a89b1-49d1-4971-fdcc-158c4cf0dded"
      },
      "source": [
        "%matplotlib inline\n",
        "plt.figure()\n",
        "plt.title('Whole Graph Coverage')\n",
        "plt.ylabel('No. of iterations')\n",
        "data.boxplot(column=['min', 'min_med', 'median','max_med','max'])"
      ],
      "execution_count": null,
      "outputs": [
        {
          "output_type": "execute_result",
          "data": {
            "text/plain": [
              "<matplotlib.axes._subplots.AxesSubplot at 0x7f8c0eb83310>"
            ]
          },
          "metadata": {
            "tags": []
          },
          "execution_count": 15
        },
        {
          "output_type": "display_data",
          "data": {
            "image/png": "[encoded data removed]",
            "text/plain": [
              "<Figure size 432x288 with 1 Axes>"
            ]
          },
          "metadata": {
            "tags": [],
            "needs_background": "light"
          }
        }
      ]
    },
    {
      "cell_type": "markdown",
      "metadata": {
        "id": "s1KARRFq6PEm"
      },
      "source": [
        "USING THE SI MODEL FOR SPREADING THE RUMOUR"
      ]
    },
    {
      "cell_type": "code",
      "metadata": {
        "id": "b2sj6F978HdH"
      },
      "source": [
        "model = ep.SIModel(g)\n",
        "cfg = mc.Configuration()\n",
        "cfg.add_model_parameter('beta', 0.1) # infection rate\n",
        "cfg.add_model_initial_configuration(\"Infected\", ['NewMexico'])\n",
        "model.set_initial_status(cfg)"
      ],
      "execution_count": null,
      "outputs": []
    },
    {
      "cell_type": "code",
      "metadata": {
        "id": "qXi2ghFiv2Ll"
      },
      "source": [
        "iteration = model.iteration()\n",
        "iteration\n",
        "node_stats=iteration['status']"
      ],
      "execution_count": null,
      "outputs": []
    },
    {
      "cell_type": "code",
      "metadata": {
        "colab": {
          "base_uri": "https://localhost:8080/"
        },
        "id": "Y3MXjOApFcBJ",
        "outputId": "a00af729-1fe7-481d-ce72-ad6c95b51906"
      },
      "source": [
        "infected_nodes=[]\n",
        "for i in node_stats:\n",
        "  if node_stats[i]==1:\n",
        "    infected_nodes.append(i)\n",
        "infected_nodes"
      ],
      "execution_count": null,
      "outputs": [
        {
          "output_type": "execute_result",
          "data": {
            "text/plain": [
              "['NewMexico']"
            ]
          },
          "metadata": {
            "tags": []
          },
          "execution_count": 18
        }
      ]
    },
    {
      "cell_type": "code",
      "metadata": {
        "colab": {
          "base_uri": "https://localhost:8080/"
        },
        "id": "d9af5e5zFfGd",
        "outputId": "aa24bdd6-518f-476e-e331-3656b8d2e7f9"
      },
      "source": [
        "NC=[]\n",
        "while(len(infected_nodes) != nodes):\n",
        "  # print(len(infected_nodes))\n",
        "  iteration = model.iteration()\n",
        "  node_stats=iteration['status']\n",
        "  #print(node_stats)\n",
        "  if(len(node_stats)!=0):\n",
        "    for key in node_stats.keys():\n",
        "      infected_nodes.append(key)\n",
        "\n",
        "  infected = iteration['node_count'][1]\n",
        "  sum=0\n",
        "  for node in infected_nodes:\n",
        "    infected_neighbors=set(infected_nodes)&set(nx.neighbors(g,node))\n",
        "    sum+=len(infected_neighbors)/len(list(nx.neighbors(g,node)))\n",
        "  NC.append(sum/iteration['node_count'][1])\n",
        "\n",
        "print(NC)"
      ],
      "execution_count": null,
      "outputs": [
        {
          "output_type": "stream",
          "text": [
            "[0.0, 0.0, 0.08712121212121213, 0.17676767676767677, 0.457070707070707, 0.457034632034632, 0.42826086956521736, 0.5154381654381656, 0.6060120435120436, 0.6974037247474748, 0.779924242424242, 0.8736027431903722, 0.9267087995861576, 0.9538551095369278, 0.9910419989367358, 1.0]\n"
          ],
          "name": "stdout"
        }
      ]
    },
    {
      "cell_type": "markdown",
      "metadata": {
        "id": "FFXDa2R46Vv2"
      },
      "source": [
        "FINDING THE NEIGHBOUR COVERAGE"
      ]
    },
    {
      "cell_type": "code",
      "metadata": {
        "id": "nd-dbgmUZcac"
      },
      "source": [
        "def neighbour_coverage():\n",
        "\n",
        "  for j in range(3,8):\n",
        "    iterations=[]\n",
        "    for key,value in centrality.items():\n",
        "      if value == df[0][j]:\n",
        "        infected_node = [key]\n",
        "\n",
        "        model = ep.SIModel(g)\n",
        "        cfg = mc.Configuration()\n",
        "        cfg.add_model_parameter('beta', 0.1) # infection rate\n",
        "        cfg.add_model_initial_configuration(\"Infected\", infected_node)\n",
        "        model.set_initial_status(cfg)\n",
        "\n",
        "        iteration = model.iteration()\n",
        "        node_stats=iteration['status']\n",
        "\n",
        "        infected_nodes=[]\n",
        "        for i in node_stats:\n",
        "          if node_stats[i]==1:\n",
        "            infected_nodes.append(i)\n",
        "        infected_nodes\n",
        "\n",
        "        NC=[0]\n",
        "        while(len(infected_nodes) != nodes):\n",
        "          # print(len(infected_nodes))\n",
        "          iteration = model.iteration()\n",
        "          node_stats=iteration['status']\n",
        "          #print(node_stats)\n",
        "          if(len(node_stats)!=0):\n",
        "            for key in node_stats.keys():\n",
        "              infected_nodes.append(key)\n",
        "\n",
        "          infected = iteration['node_count'][1]\n",
        "          sum=0\n",
        "          for node in infected_nodes:\n",
        "            infected_neighbors=set(infected_nodes)&set(nx.neighbors(g,node))\n",
        "            sum+=len(infected_neighbors)/len(list(nx.neighbors(g,node)))\n",
        "          NC.append(sum/iteration['node_count'][1])\n",
        "\n",
        "        required_iterations_dict[j].append(NC)"
      ],
      "execution_count": null,
      "outputs": []
    },
    {
      "cell_type": "code",
      "metadata": {
        "id": "6dr0WWxPZfJh"
      },
      "source": [
        "required_iterations_dict = {3: [], 4 : [], 5 : [], 6 : [], 7 : []}"
      ],
      "execution_count": null,
      "outputs": []
    },
    {
      "cell_type": "markdown",
      "metadata": {
        "id": "xk4rDsJF6cL7"
      },
      "source": [
        "CALLING THE FUNCTION"
      ]
    },
    {
      "cell_type": "code",
      "metadata": {
        "id": "jB5yZbXyapDI"
      },
      "source": [
        "neighbour_coverage()"
      ],
      "execution_count": null,
      "outputs": []
    },
    {
      "cell_type": "code",
      "metadata": {
        "id": "-WQHtexlatUe",
        "colab": {
          "base_uri": "https://localhost:8080/"
        },
        "outputId": "4fa41f6f-b993-4a5e-afe8-51a39b354827"
      },
      "source": [
        "required_iterations"
      ],
      "execution_count": null,
      "outputs": [
        {
          "output_type": "execute_result",
          "data": {
            "text/plain": [
              "[[20, 20.0, 20.0, 20.0, 20.0, 20.0, 20.0, 20.0, 20.0, 20.0],\n",
              " [17, 17, 20, 14, 20, 16, 14, 17, 15, 16],\n",
              " [14, 17, 15, 18, 14, 17, 17, 15, 14, 18],\n",
              " [18, 17, 18, 17, 15, 19, 14, 19, 19, 16],\n",
              " [18, 16, 17, 15, 15, 15, 16, 16, 15, 13]]"
            ]
          },
          "metadata": {
            "tags": []
          },
          "execution_count": 23
        }
      ]
    },
    {
      "cell_type": "code",
      "metadata": {
        "colab": {
          "base_uri": "https://localhost:8080/"
        },
        "id": "mIhqnuuHgAeU",
        "outputId": "9e595cb6-e5ac-45d0-9101-f849b14d62fe"
      },
      "source": [
        "len(required_iterations_dict[7][10])"
      ],
      "execution_count": null,
      "outputs": [
        {
          "output_type": "execute_result",
          "data": {
            "text/plain": [
              "16"
            ]
          },
          "metadata": {
            "tags": []
          },
          "execution_count": 24
        }
      ]
    },
    {
      "cell_type": "code",
      "metadata": {
        "id": "k8D_MNqTjbUW"
      },
      "source": [
        "table_min=[]\n",
        "for j in range(11):\n",
        "  col=[]\n",
        "  for i in range(len(required_iterations_dict[3])):\n",
        "    col.append(required_iterations_dict[3][i][j])\n",
        "  table_min.append(col)\n",
        "\n",
        "df_min=pd.DataFrame(table_min).T"
      ],
      "execution_count": null,
      "outputs": []
    },
    {
      "cell_type": "code",
      "metadata": {
        "id": "Tln31ETSoxHI"
      },
      "source": [
        "table_min_med=[]\n",
        "for j in range(11):\n",
        "  col=[]\n",
        "  for i in range(len(required_iterations_dict[4])):\n",
        "    col.append(required_iterations_dict[4][i][j])\n",
        "  table_min_med.append(col)\n",
        "\n",
        "df_min_med=pd.DataFrame(table_min_med).T"
      ],
      "execution_count": null,
      "outputs": []
    },
    {
      "cell_type": "code",
      "metadata": {
        "id": "OSzrHaKno6XB"
      },
      "source": [
        "table_median=[]\n",
        "for j in range(11):\n",
        "  col=[]\n",
        "  for i in range(len(required_iterations_dict[5])):\n",
        "    col.append(required_iterations_dict[5][i][j])\n",
        "  table_median.append(col)\n",
        "\n",
        "df_median=pd.DataFrame(table_median).T"
      ],
      "execution_count": null,
      "outputs": []
    },
    {
      "cell_type": "code",
      "metadata": {
        "id": "Oc7slttRpFzj"
      },
      "source": [
        "table_max_med=[]\n",
        "for j in range(11):\n",
        "  col=[]\n",
        "  for i in range(len(required_iterations_dict[6])):\n",
        "    col.append(required_iterations_dict[6][i][j])\n",
        "  table_max_med.append(col)\n",
        "\n",
        "df_max_med=pd.DataFrame(table_max_med).T"
      ],
      "execution_count": null,
      "outputs": []
    },
    {
      "cell_type": "code",
      "metadata": {
        "id": "FIJRcKIWdCam"
      },
      "source": [
        "table_max=[]\n",
        "for j in range(11):\n",
        "  col=[]\n",
        "  for i in range(len(required_iterations_dict[7])):\n",
        "    # for j in range(len(required_iterations_dict[7][i][j])):\n",
        "    col.append(required_iterations_dict[7][i][j])\n",
        "  table_max.append(col)\n",
        "\n",
        "df_max=pd.DataFrame(table_max).T"
      ],
      "execution_count": null,
      "outputs": []
    },
    {
      "cell_type": "code",
      "metadata": {
        "id": "vnuxpuLxuvaA"
      },
      "source": [
        "min=[]\n",
        "for i in range(11):\n",
        "  min.append(df_max[i].min())"
      ],
      "execution_count": null,
      "outputs": []
    },
    {
      "cell_type": "code",
      "metadata": {
        "id": "dFZ-mkifvWPA"
      },
      "source": [
        "df_min_stats=df_min.describe()\n",
        "df_min_med_stats=df_min_med.describe()\n",
        "df_median_stats=df_median.describe()\n",
        "df_max_med_stats=df_max_med.describe()\n",
        "df_max_stats=df_max.describe()"
      ],
      "execution_count": null,
      "outputs": []
    },
    {
      "cell_type": "markdown",
      "metadata": {
        "id": "q019X8-X6zXk"
      },
      "source": [
        "AN EXAMPLE OF THE STATISTICS OF DF_MAX, WE CAN PRINT THE SAME FOR ALL OTHER DATASETS"
      ]
    },
    {
      "cell_type": "code",
      "metadata": {
        "colab": {
          "base_uri": "https://localhost:8080/",
          "height": 314
        },
        "id": "wuIQbZSFxH83",
        "outputId": "2e4f5a42-365e-4305-f36f-33ae52b3f99e"
      },
      "source": [
        "df_max_stats"
      ],
      "execution_count": null,
      "outputs": [
        {
          "output_type": "execute_result",
          "data": {
            "text/html": [
              "<div>\n",
              "<style scoped>\n",
              "    .dataframe tbody tr th:only-of-type {\n",
              "        vertical-align: middle;\n",
              "    }\n",
              "\n",
              "    .dataframe tbody tr th {\n",
              "        vertical-align: top;\n",
              "    }\n",
              "\n",
              "    .dataframe thead th {\n",
              "        text-align: right;\n",
              "    }\n",
              "</style>\n",
              "<table border=\"1\" class=\"dataframe\">\n",
              "  <thead>\n",
              "    <tr style=\"text-align: right;\">\n",
              "      <th></th>\n",
              "      <th>0</th>\n",
              "      <th>1</th>\n",
              "      <th>2</th>\n",
              "      <th>3</th>\n",
              "      <th>4</th>\n",
              "      <th>5</th>\n",
              "      <th>6</th>\n",
              "      <th>7</th>\n",
              "      <th>8</th>\n",
              "      <th>9</th>\n",
              "      <th>10</th>\n",
              "    </tr>\n",
              "  </thead>\n",
              "  <tbody>\n",
              "    <tr>\n",
              "      <th>count</th>\n",
              "      <td>12.0</td>\n",
              "      <td>12.000000</td>\n",
              "      <td>12.000000</td>\n",
              "      <td>12.000000</td>\n",
              "      <td>12.000000</td>\n",
              "      <td>12.000000</td>\n",
              "      <td>12.000000</td>\n",
              "      <td>12.000000</td>\n",
              "      <td>12.000000</td>\n",
              "      <td>12.000000</td>\n",
              "      <td>12.000000</td>\n",
              "    </tr>\n",
              "    <tr>\n",
              "      <th>mean</th>\n",
              "      <td>0.0</td>\n",
              "      <td>0.089794</td>\n",
              "      <td>0.173755</td>\n",
              "      <td>0.259277</td>\n",
              "      <td>0.346944</td>\n",
              "      <td>0.438720</td>\n",
              "      <td>0.533594</td>\n",
              "      <td>0.636205</td>\n",
              "      <td>0.708140</td>\n",
              "      <td>0.790404</td>\n",
              "      <td>0.842177</td>\n",
              "    </tr>\n",
              "    <tr>\n",
              "      <th>std</th>\n",
              "      <td>0.0</td>\n",
              "      <td>0.050869</td>\n",
              "      <td>0.095362</td>\n",
              "      <td>0.114622</td>\n",
              "      <td>0.130777</td>\n",
              "      <td>0.096152</td>\n",
              "      <td>0.111396</td>\n",
              "      <td>0.110749</td>\n",
              "      <td>0.117248</td>\n",
              "      <td>0.118262</td>\n",
              "      <td>0.118443</td>\n",
              "    </tr>\n",
              "    <tr>\n",
              "      <th>min</th>\n",
              "      <td>0.0</td>\n",
              "      <td>0.000000</td>\n",
              "      <td>0.000000</td>\n",
              "      <td>0.083333</td>\n",
              "      <td>0.144242</td>\n",
              "      <td>0.299862</td>\n",
              "      <td>0.338200</td>\n",
              "      <td>0.455610</td>\n",
              "      <td>0.513206</td>\n",
              "      <td>0.577783</td>\n",
              "      <td>0.593590</td>\n",
              "    </tr>\n",
              "    <tr>\n",
              "      <th>25%</th>\n",
              "      <td>0.0</td>\n",
              "      <td>0.086174</td>\n",
              "      <td>0.086174</td>\n",
              "      <td>0.204558</td>\n",
              "      <td>0.270661</td>\n",
              "      <td>0.373421</td>\n",
              "      <td>0.464863</td>\n",
              "      <td>0.555835</td>\n",
              "      <td>0.646116</td>\n",
              "      <td>0.759263</td>\n",
              "      <td>0.816443</td>\n",
              "    </tr>\n",
              "    <tr>\n",
              "      <th>50%</th>\n",
              "      <td>0.0</td>\n",
              "      <td>0.087121</td>\n",
              "      <td>0.186069</td>\n",
              "      <td>0.276351</td>\n",
              "      <td>0.342614</td>\n",
              "      <td>0.446447</td>\n",
              "      <td>0.549373</td>\n",
              "      <td>0.642243</td>\n",
              "      <td>0.710220</td>\n",
              "      <td>0.805646</td>\n",
              "      <td>0.879174</td>\n",
              "    </tr>\n",
              "    <tr>\n",
              "      <th>75%</th>\n",
              "      <td>0.0</td>\n",
              "      <td>0.117424</td>\n",
              "      <td>0.255888</td>\n",
              "      <td>0.344349</td>\n",
              "      <td>0.474294</td>\n",
              "      <td>0.498793</td>\n",
              "      <td>0.586837</td>\n",
              "      <td>0.708556</td>\n",
              "      <td>0.766158</td>\n",
              "      <td>0.837370</td>\n",
              "      <td>0.895584</td>\n",
              "    </tr>\n",
              "    <tr>\n",
              "      <th>max</th>\n",
              "      <td>0.0</td>\n",
              "      <td>0.182828</td>\n",
              "      <td>0.297273</td>\n",
              "      <td>0.435909</td>\n",
              "      <td>0.521496</td>\n",
              "      <td>0.592757</td>\n",
              "      <td>0.698757</td>\n",
              "      <td>0.802995</td>\n",
              "      <td>0.906678</td>\n",
              "      <td>0.976592</td>\n",
              "      <td>0.991215</td>\n",
              "    </tr>\n",
              "  </tbody>\n",
              "</table>\n",
              "</div>"
            ],
            "text/plain": [
              "         0          1          2   ...         8          9          10\n",
              "count  12.0  12.000000  12.000000  ...  12.000000  12.000000  12.000000\n",
              "mean    0.0   0.089794   0.173755  ...   0.708140   0.790404   0.842177\n",
              "std     0.0   0.050869   0.095362  ...   0.117248   0.118262   0.118443\n",
              "min     0.0   0.000000   0.000000  ...   0.513206   0.577783   0.593590\n",
              "25%     0.0   0.086174   0.086174  ...   0.646116   0.759263   0.816443\n",
              "50%     0.0   0.087121   0.186069  ...   0.710220   0.805646   0.879174\n",
              "75%     0.0   0.117424   0.255888  ...   0.766158   0.837370   0.895584\n",
              "max     0.0   0.182828   0.297273  ...   0.906678   0.976592   0.991215\n",
              "\n",
              "[8 rows x 11 columns]"
            ]
          },
          "metadata": {
            "tags": []
          },
          "execution_count": 32
        }
      ]
    },
    {
      "cell_type": "markdown",
      "metadata": {
        "id": "yturRC-C68-w"
      },
      "source": [
        "PLOTTING THE BOXPLOTS OF ALL ITERATIONS AND LINE GRAPH OF ALL STATISTICAL MEASURES"
      ]
    },
    {
      "cell_type": "code",
      "metadata": {
        "colab": {
          "base_uri": "https://localhost:8080/",
          "height": 313
        },
        "id": "X6zKaqaQa4ze",
        "outputId": "e0fc9f26-e0d2-461d-a931-c0b6975da89c"
      },
      "source": [
        "%matplotlib inline\n",
        "plt.figure()\n",
        "plt.title('football neighbour coverage')\n",
        "plt.ylabel('Neighbour Coverage')\n",
        "plt.xlabel('No. of iterations')\n",
        "df_min.boxplot()\n",
        "plt.plot(df_min_stats.loc['min'])\n",
        "plt.plot(df_min_stats.loc['25%'])\n",
        "plt.plot(df_min_stats.loc['50%'])\n",
        "plt.plot(df_min_stats.loc['75%'])\n",
        "plt.plot(df_min_stats.loc['max'])\n",
        "df_min_med.boxplot()\n",
        "plt.plot(df_min_med_stats.loc['min'])\n",
        "plt.plot(df_min_med_stats.loc['25%'])\n",
        "plt.plot(df_min_med_stats.loc['50%'])\n",
        "plt.plot(df_min_med_stats.loc['75%'])\n",
        "plt.plot(df_min_med_stats.loc['max'])\n",
        "df_median.boxplot()\n",
        "plt.plot(df_median_stats.loc['min'])\n",
        "plt.plot(df_median_stats.loc['25%'])\n",
        "plt.plot(df_median_stats.loc['50%'])\n",
        "plt.plot(df_median_stats.loc['75%'])\n",
        "plt.plot(df_median_stats.loc['max'])\n",
        "df_max_med.boxplot()\n",
        "plt.plot(df_max_med_stats.loc['min'])\n",
        "plt.plot(df_max_med_stats.loc['25%'])\n",
        "plt.plot(df_max_med_stats.loc['50%'])\n",
        "plt.plot(df_max_med_stats.loc['75%'])\n",
        "plt.plot(df_max_med_stats.loc['max'])\n",
        "df_max.boxplot()\n",
        "plt.plot(df_max_stats.loc['min'])\n",
        "plt.plot(df_max_stats.loc['25%'])\n",
        "plt.plot(df_max_stats.loc['50%'])\n",
        "plt.plot(df_max_stats.loc['75%'])\n",
        "plt.plot(df_max_stats.loc['max'])"
      ],
      "execution_count": null,
      "outputs": [
        {
          "output_type": "execute_result",
          "data": {
            "text/plain": [
              "[<matplotlib.lines.Line2D at 0x7f8bf77645d0>]"
            ]
          },
          "metadata": {
            "tags": []
          },
          "execution_count": 33
        },
        {
          "output_type": "display_data",
          "data": {
            "image/png": "[encoded data removed]",
            "text/plain": [
              "<Figure size 432x288 with 1 Axes>"
            ]
          },
          "metadata": {
            "tags": [],
            "needs_background": "light"
          }
        }
      ]
    },
    {
      "cell_type": "markdown",
      "metadata": {
        "id": "4D-3dCci7RmI"
      },
      "source": [
        "PLOTTING SEPERATE GRAPHS FOR ALL STATISTICAL MEASURES OF min, min_med, median, max_med, max"
      ]
    },
    {
      "cell_type": "code",
      "metadata": {
        "colab": {
          "base_uri": "https://localhost:8080/",
          "height": 283
        },
        "id": "SrjOi7pH0sF9",
        "outputId": "994b53bb-2573-48eb-cada-85ca3f528f4a"
      },
      "source": [
        "df_min.boxplot()\n",
        "plt.plot(df_min_stats.loc['min'])\n",
        "plt.plot(df_min_stats.loc['25%'])\n",
        "plt.plot(df_min_stats.loc['50%'])\n",
        "plt.plot(df_min_stats.loc['75%'])\n",
        "plt.plot(df_min_stats.loc['max'])"
      ],
      "execution_count": null,
      "outputs": [
        {
          "output_type": "execute_result",
          "data": {
            "text/plain": [
              "[<matplotlib.lines.Line2D at 0x7f8bf6523250>]"
            ]
          },
          "metadata": {
            "tags": []
          },
          "execution_count": 34
        },
        {
          "output_type": "display_data",
          "data": {
            "image/png": "[encoded data removed]",
            "text/plain": [
              "<Figure size 432x288 with 1 Axes>"
            ]
          },
          "metadata": {
            "tags": [],
            "needs_background": "light"
          }
        }
      ]
    },
    {
      "cell_type": "code",
      "metadata": {
        "colab": {
          "base_uri": "https://localhost:8080/",
          "height": 283
        },
        "id": "AUPfL9LP0nzJ",
        "outputId": "38906e2a-3e47-4322-8c41-ccff129419fa"
      },
      "source": [
        "df_min_med.boxplot()\n",
        "plt.plot(df_min_med_stats.loc['min'])\n",
        "plt.plot(df_min_med_stats.loc['25%'])\n",
        "plt.plot(df_min_med_stats.loc['50%'])\n",
        "plt.plot(df_min_med_stats.loc['75%'])\n",
        "plt.plot(df_min_med_stats.loc['max'])"
      ],
      "execution_count": null,
      "outputs": [
        {
          "output_type": "execute_result",
          "data": {
            "text/plain": [
              "[<matplotlib.lines.Line2D at 0x7f8bf637f310>]"
            ]
          },
          "metadata": {
            "tags": []
          },
          "execution_count": 35
        },
        {
          "output_type": "display_data",
          "data": {
            "image/png": "[encoded data removed]",
            "text/plain": [
              "<Figure size 432x288 with 1 Axes>"
            ]
          },
          "metadata": {
            "tags": [],
            "needs_background": "light"
          }
        }
      ]
    },
    {
      "cell_type": "code",
      "metadata": {
        "colab": {
          "base_uri": "https://localhost:8080/",
          "height": 283
        },
        "id": "igcBEvft0deT",
        "outputId": "f4196315-18e2-4b9d-94c1-fe29f285152e"
      },
      "source": [
        "df_median.boxplot()\n",
        "plt.plot(df_median_stats.loc['min'])\n",
        "plt.plot(df_median_stats.loc['25%'])\n",
        "plt.plot(df_median_stats.loc['50%'])\n",
        "plt.plot(df_median_stats.loc['75%'])\n",
        "plt.plot(df_median_stats.loc['max'])"
      ],
      "execution_count": null,
      "outputs": [
        {
          "output_type": "execute_result",
          "data": {
            "text/plain": [
              "[<matplotlib.lines.Line2D at 0x7f8bf6200b90>]"
            ]
          },
          "metadata": {
            "tags": []
          },
          "execution_count": 36
        },
        {
          "output_type": "display_data",
          "data": {
            "image/png": "[encoded data removed]",
            "text/plain": [
              "<Figure size 432x288 with 1 Axes>"
            ]
          },
          "metadata": {
            "tags": [],
            "needs_background": "light"
          }
        }
      ]
    },
    {
      "cell_type": "code",
      "metadata": {
        "colab": {
          "base_uri": "https://localhost:8080/",
          "height": 283
        },
        "id": "RXQL7BVr0WA3",
        "outputId": "298db2a1-9c24-4d91-ed8b-c50930bc54fa"
      },
      "source": [
        "df_max_med.boxplot()\n",
        "plt.plot(df_max_med_stats.loc['min'])\n",
        "plt.plot(df_max_med_stats.loc['25%'])\n",
        "plt.plot(df_max_med_stats.loc['50%'])\n",
        "plt.plot(df_max_med_stats.loc['75%'])\n",
        "plt.plot(df_max_med_stats.loc['max'])"
      ],
      "execution_count": null,
      "outputs": [
        {
          "output_type": "execute_result",
          "data": {
            "text/plain": [
              "[<matplotlib.lines.Line2D at 0x7f8bf60795d0>]"
            ]
          },
          "metadata": {
            "tags": []
          },
          "execution_count": 37
        },
        {
          "output_type": "display_data",
          "data": {
            "image/png": "[encoded data removed]",
            "text/plain": [
              "<Figure size 432x288 with 1 Axes>"
            ]
          },
          "metadata": {
            "tags": [],
            "needs_background": "light"
          }
        }
      ]
    },
    {
      "cell_type": "code",
      "metadata": {
        "colab": {
          "base_uri": "https://localhost:8080/",
          "height": 283
        },
        "id": "cBpq6UWlkP9h",
        "outputId": "152dc3fe-c3dc-440c-f94d-e21cc522ae08"
      },
      "source": [
        "df_max.boxplot()\n",
        "plt.plot(df_max_stats.loc['min'])\n",
        "plt.plot(df_max_stats.loc['25%'])\n",
        "plt.plot(df_max_stats.loc['50%'])\n",
        "plt.plot(df_max_stats.loc['75%'])\n",
        "plt.plot(df_max_stats.loc['max'])"
      ],
      "execution_count": null,
      "outputs": [
        {
          "output_type": "execute_result",
          "data": {
            "text/plain": [
              "[<matplotlib.lines.Line2D at 0x7f8bf5ef58d0>]"
            ]
          },
          "metadata": {
            "tags": []
          },
          "execution_count": 38
        },
        {
          "output_type": "display_data",
          "data": {
            "image/png": "[encoded data removed]",
            "text/plain": [
              "<Figure size 432x288 with 1 Axes>"
            ]
          },
          "metadata": {
            "tags": [],
            "needs_background": "light"
          }
        }
      ]
    }
  ]
}